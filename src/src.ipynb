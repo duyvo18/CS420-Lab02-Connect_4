{
 "cells": [
  {
   "cell_type": "markdown",
   "metadata": {},
   "source": [
    "# Environment Setup"
   ]
  },
  {
   "cell_type": "code",
   "execution_count": 1,
   "metadata": {},
   "outputs": [],
   "source": [
    "from os import chdir as cd\n",
    "cd('/mnt/d/repo/CS420_Lab02_Connect-4')"
   ]
  },
  {
   "cell_type": "markdown",
   "metadata": {},
   "source": [
    "# Data preparation"
   ]
  },
  {
   "cell_type": "markdown",
   "metadata": {},
   "source": [
    "## Read data"
   ]
  },
  {
   "cell_type": "code",
   "execution_count": 2,
   "metadata": {},
   "outputs": [
    {
     "name": "stdout",
     "output_type": "stream",
     "text": [
      "      a1 a2 a3 a4 a5 a6 b1 b2 b3 b4  ... f4 f5 f6 g1 g2 g3 g4 g5 g6 class\n",
      "0      b  b  b  b  b  b  b  b  b  b  ...  b  b  b  b  b  b  b  b  b   win\n",
      "1      b  b  b  b  b  b  b  b  b  b  ...  b  b  b  b  b  b  b  b  b   win\n",
      "2      b  b  b  b  b  b  o  b  b  b  ...  b  b  b  b  b  b  b  b  b   win\n",
      "3      b  b  b  b  b  b  b  b  b  b  ...  b  b  b  b  b  b  b  b  b   win\n",
      "4      o  b  b  b  b  b  b  b  b  b  ...  b  b  b  b  b  b  b  b  b   win\n",
      "...   .. .. .. .. .. .. .. .. .. ..  ... .. .. .. .. .. .. .. .. ..   ...\n",
      "67552  x  x  b  b  b  b  o  x  o  b  ...  b  b  b  o  o  x  b  b  b  loss\n",
      "67553  x  x  b  b  b  b  o  b  b  b  ...  b  b  b  o  x  o  o  x  b  draw\n",
      "67554  x  x  b  b  b  b  o  o  b  b  ...  b  b  b  o  x  x  o  b  b  loss\n",
      "67555  x  o  b  b  b  b  o  b  b  b  ...  b  b  b  o  x  o  x  x  b  draw\n",
      "67556  x  o  o  o  x  b  o  b  b  b  ...  b  b  b  x  b  b  b  b  b  draw\n",
      "\n",
      "[67557 rows x 43 columns]\n"
     ]
    }
   ],
   "source": [
    "from pandas import read_csv\n",
    "\n",
    "data_raw = read_csv(\"./data/connect-4.csv\", header=0)\n",
    "print(data_raw)"
   ]
  },
  {
   "cell_type": "markdown",
   "metadata": {},
   "source": [
    "## Preprocessing Data"
   ]
  },
  {
   "cell_type": "code",
   "execution_count": 3,
   "metadata": {},
   "outputs": [],
   "source": [
    "data_feature = data_raw.iloc[:, :-1]\n",
    "data_label = data_raw.iloc[:, -1:]"
   ]
  },
  {
   "cell_type": "code",
   "execution_count": 4,
   "metadata": {},
   "outputs": [],
   "source": [
    "feature_names = data_feature.columns\n",
    "class_names = ['draw', 'loss', 'win']"
   ]
  },
  {
   "cell_type": "code",
   "execution_count": 5,
   "metadata": {},
   "outputs": [],
   "source": [
    "x = data_feature.to_numpy()\n",
    "y = data_label.to_numpy()"
   ]
  },
  {
   "cell_type": "code",
   "execution_count": 6,
   "metadata": {},
   "outputs": [],
   "source": [
    "for i in range( 0, len( x[:] ) ):\n",
    "    for j in range( 0, len( x[i][:] ) ):\n",
    "        if x[i][j] == 'b':\n",
    "            x[i][j] = -1\n",
    "        elif x[i][j] == 'x':\n",
    "            x[i][j] = 0\n",
    "        elif x[i][j] == 'o':\n",
    "            x[i][j] = 1\n",
    "        else:\n",
    "            print(x[i][j])\n",
    "            raise Exception(\"Invalid Value\")"
   ]
  },
  {
   "cell_type": "markdown",
   "metadata": {},
   "source": [
    "## Train/Test Separation with Different Proportions"
   ]
  },
  {
   "cell_type": "code",
   "execution_count": 7,
   "metadata": {},
   "outputs": [],
   "source": [
    "from sklearn.model_selection import StratifiedShuffleSplit\n",
    "\n",
    "train_propotions = [0.4, 0.6, 0.8, 0.9]\n",
    "datasets = []\n",
    "\n",
    "for prop in train_propotions:\n",
    "    splitter = StratifiedShuffleSplit(n_splits=1, train_size=prop)\n",
    "    \n",
    "    for train_idx, test_idx in splitter.split(x, y):\n",
    "        feature_train, label_train = x[train_idx], y[train_idx]    \n",
    "        feature_test, label_test = x[test_idx], y[test_idx]\n",
    "             \n",
    "        datasets.append(\n",
    "            {\n",
    "                \"feature_train\" : feature_train,\n",
    "                \"label_train\" : label_train,\n",
    "                \"feature_test\" : feature_test,\n",
    "                \"label_test\" : label_test\n",
    "            }\n",
    "        )"
   ]
  },
  {
   "cell_type": "markdown",
   "metadata": {},
   "source": [
    "# Decision Tree Classifier"
   ]
  },
  {
   "cell_type": "markdown",
   "metadata": {},
   "source": [
    "## Modelling and Visualization"
   ]
  },
  {
   "cell_type": "code",
   "execution_count": 8,
   "metadata": {},
   "outputs": [],
   "source": [
    "from sklearn.tree import DecisionTreeClassifier\n",
    "\n",
    "dec_trees = []\n",
    "for dataset in datasets:\n",
    "    dec_tree = DecisionTreeClassifier(criterion='entropy')\n",
    "    \n",
    "    dec_tree = dec_tree.fit(dataset[\"feature_train\"], dataset[\"label_train\"])\n",
    "    \n",
    "    dec_trees.append(dec_tree)"
   ]
  },
  {
   "cell_type": "code",
   "execution_count": 9,
   "metadata": {},
   "outputs": [],
   "source": [
    "from sklearn.tree import export_graphviz\n",
    "from graphviz import Source\n",
    "\n",
    "for dec_tree in dec_trees:\n",
    "    idx = dec_trees.index(dec_tree)\n",
    "    corr_prop = train_propotions[idx]\n",
    "    \n",
    "    filename = f\"tree-{corr_prop}_Full\"\n",
    "    \n",
    "    doc_data = export_graphviz(\n",
    "        dec_tree,\n",
    "        feature_names=feature_names,\n",
    "        class_names=class_names,\n",
    "        filled=True)\n",
    "    \n",
    "    Source(doc_data).render(filename=filename, format='svg')"
   ]
  },
  {
   "cell_type": "markdown",
   "metadata": {},
   "source": [
    "## Evaluation"
   ]
  },
  {
   "cell_type": "code",
   "execution_count": 10,
   "metadata": {},
   "outputs": [
    {
     "name": "stdout",
     "output_type": "stream",
     "text": [
      "              precision    recall  f1-score   support\n",
      "\n",
      "        draw       0.25      0.26      0.26      3870\n",
      "        loss       0.63      0.63      0.63      9981\n",
      "         win       0.84      0.84      0.84     26684\n",
      "\n",
      "    accuracy                           0.73     40535\n",
      "   macro avg       0.57      0.57      0.57     40535\n",
      "weighted avg       0.73      0.73      0.73     40535\n",
      "\n",
      "              precision    recall  f1-score   support\n",
      "\n",
      "        draw       0.28      0.30      0.29      2580\n",
      "        loss       0.67      0.66      0.67      6654\n",
      "         win       0.85      0.85      0.85     17789\n",
      "\n",
      "    accuracy                           0.75     27023\n",
      "   macro avg       0.60      0.60      0.60     27023\n",
      "weighted avg       0.76      0.75      0.75     27023\n",
      "\n",
      "              precision    recall  f1-score   support\n",
      "\n",
      "        draw       0.26      0.28      0.27      1290\n",
      "        loss       0.67      0.66      0.67      3327\n",
      "         win       0.85      0.85      0.85      8895\n",
      "\n",
      "    accuracy                           0.75     13512\n",
      "   macro avg       0.59      0.60      0.60     13512\n",
      "weighted avg       0.75      0.75      0.75     13512\n",
      "\n",
      "              precision    recall  f1-score   support\n",
      "\n",
      "        draw       0.28      0.28      0.28       645\n",
      "        loss       0.68      0.69      0.69      1664\n",
      "         win       0.86      0.86      0.86      4447\n",
      "\n",
      "    accuracy                           0.76      6756\n",
      "   macro avg       0.61      0.61      0.61      6756\n",
      "weighted avg       0.76      0.76      0.76      6756\n",
      "\n"
     ]
    },
    {
     "data": {
      "image/png": "[encoded data removed]",
      "text/plain": [
       "<Figure size 432x288 with 2 Axes>"
      ]
     },
     "metadata": {
      "needs_background": "light"
     },
     "output_type": "display_data"
    },
    {
     "data": {
      "image/png": "[encoded data removed]",
      "text/plain": [
       "<Figure size 432x288 with 2 Axes>"
      ]
     },
     "metadata": {
      "needs_background": "light"
     },
     "output_type": "display_data"
    },
    {
     "data": {
      "image/png": "[encoded data removed]",
      "text/plain": [
       "<Figure size 432x288 with 2 Axes>"
      ]
     },
     "metadata": {
      "needs_background": "light"
     },
     "output_type": "display_data"
    },
    {
     "data": {
      "image/png": "[encoded data removed]",
      "text/plain": [
       "<Figure size 432x288 with 2 Axes>"
      ]
     },
     "metadata": {
      "needs_background": "light"
     },
     "output_type": "display_data"
    }
   ],
   "source": [
    "from numpy import concatenate\n",
    "from sklearn.metrics import (\n",
    "    classification_report,\n",
    "    ConfusionMatrixDisplay\n",
    ")\n",
    "\n",
    "for dec_tree, dataset in zip(dec_trees, datasets):\n",
    "    pred = dec_tree.predict(dataset[\"feature_test\"])\n",
    "    ground_truth = concatenate(dataset[\"label_test\"])\n",
    "    \n",
    "    print( classification_report(ground_truth, pred, labels=class_names) )\n",
    "    \n",
    "    ConfusionMatrixDisplay.from_predictions(ground_truth, pred, labels=class_names)"
   ]
  },
  {
   "cell_type": "markdown",
   "metadata": {},
   "source": [
    "# Evaluating Tree Depth and Accuracy"
   ]
  },
  {
   "cell_type": "code",
   "execution_count": 11,
   "metadata": {},
   "outputs": [
    {
     "name": "stdout",
     "output_type": "stream",
     "text": [
      "0.7484458259325044\n",
      "0.658303730017762\n",
      "0.6635583185316756\n",
      "0.6756216696269982\n",
      "0.6894612196566016\n",
      "0.6932356423919479\n",
      "0.7030047365304914\n"
     ]
    }
   ],
   "source": [
    "from sklearn.tree import DecisionTreeClassifier,export_graphviz\n",
    "from sklearn.metrics import accuracy_score\n",
    "from graphviz import Source\n",
    "from numpy import concatenate\n",
    "\n",
    "dataset = datasets[2]\n",
    "\n",
    "max_depths = (None, 2, 3, 4, 5, 6, 7)\n",
    "for max_depth in max_depths:\n",
    "    dec_tree = DecisionTreeClassifier(criterion='entropy', max_depth=max_depth)\n",
    "    dec_tree = dec_tree.fit(dataset[\"feature_train\"], dataset[\"label_train\"])\n",
    "    \n",
    "    filename = f\"tree-{0.8}_Depth-{max_depth}\"\n",
    "    \n",
    "    doc_data = export_graphviz(\n",
    "        dec_tree,\n",
    "        feature_names=feature_names,\n",
    "        class_names=class_names,\n",
    "        filled=True)\n",
    "    \n",
    "    Source(doc_data).render(filename=filename, format='svg')\n",
    "    \n",
    "    pred = dec_tree.predict(dataset[\"feature_test\"])\n",
    "    ground_truth = concatenate(dataset[\"label_test\"])\n",
    "    \n",
    "    print( accuracy_score(ground_truth, pred) )\n",
    "    "
   ]
  }
 ],
 "metadata": {
  "interpreter": {
   "hash": "10e909e10b6a4a12e1ba21a2205a0ed7505e567f0f6a8eac062977774b23d4d6"
  },
  "kernelspec": {
   "display_name": "Python 3.8.10 64-bit (system)",
   "language": "python",
   "name": "python3"
  },
  "language_info": {
   "codemirror_mode": {
    "name": "ipython",
    "version": 3
   },
   "file_extension": ".py",
   "mimetype": "text/x-python",
   "name": "python",
   "nbconvert_exporter": "python",
   "pygments_lexer": "ipython3",
   "version": "3.8.10"
  },
  "orig_nbformat": 4
 },
 "nbformat": 4,
 "nbformat_minor": 2
}
