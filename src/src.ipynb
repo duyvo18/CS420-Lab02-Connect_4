{
 "cells": [
  {
   "cell_type": "code",
   "execution_count": 2,
   "metadata": {},
   "outputs": [
    {
     "name": "stdout",
     "output_type": "stream",
     "text": [
      "D:\\repo\\CS420_Lab02_Connect-4\n"
     ]
    }
   ],
   "source": [
    "cd \"D:/repo/CS420_Lab02_Connect-4\""
   ]
  },
  {
   "cell_type": "code",
   "execution_count": 3,
   "metadata": {},
   "outputs": [
    {
     "name": "stdout",
     "output_type": "stream",
     "text": [
      "      a1 a2 a3 a4 a5 a6 b1 b2 b3 b4  ... f4 f5 f6 g1 g2 g3 g4 g5 g6 class\n",
      "0      b  b  b  b  b  b  b  b  b  b  ...  b  b  b  b  b  b  b  b  b   win\n",
      "1      b  b  b  b  b  b  b  b  b  b  ...  b  b  b  b  b  b  b  b  b   win\n",
      "2      b  b  b  b  b  b  o  b  b  b  ...  b  b  b  b  b  b  b  b  b   win\n",
      "3      b  b  b  b  b  b  b  b  b  b  ...  b  b  b  b  b  b  b  b  b   win\n",
      "4      o  b  b  b  b  b  b  b  b  b  ...  b  b  b  b  b  b  b  b  b   win\n",
      "...   .. .. .. .. .. .. .. .. .. ..  ... .. .. .. .. .. .. .. .. ..   ...\n",
      "67552  x  x  b  b  b  b  o  x  o  b  ...  b  b  b  o  o  x  b  b  b  loss\n",
      "67553  x  x  b  b  b  b  o  b  b  b  ...  b  b  b  o  x  o  o  x  b  draw\n",
      "67554  x  x  b  b  b  b  o  o  b  b  ...  b  b  b  o  x  x  o  b  b  loss\n",
      "67555  x  o  b  b  b  b  o  b  b  b  ...  b  b  b  o  x  o  x  x  b  draw\n",
      "67556  x  o  o  o  x  b  o  b  b  b  ...  b  b  b  x  b  b  b  b  b  draw\n",
      "\n",
      "[67557 rows x 43 columns]\n"
     ]
    }
   ],
   "source": [
    "from pandas import read_csv\n",
    "\n",
    "data_raw = read_csv(\"./data/connect-4.csv\", header=0)\n",
    "print(data_raw)"
   ]
  },
  {
   "cell_type": "code",
   "execution_count": 4,
   "metadata": {},
   "outputs": [],
   "source": [
    "data_feature = data_raw.iloc[:, :-1]\n",
    "data_label = data_raw.iloc[:, -1:]\n",
    "\n",
    "# feature_name = data_feature.columns\n",
    "# class_name = \n",
    "\n",
    "x = data_feature.to_numpy()\n",
    "y = data_label.to_numpy()"
   ]
  },
  {
   "cell_type": "code",
   "execution_count": 5,
   "metadata": {},
   "outputs": [],
   "source": [
    "for i in range( 0, len( x[:] ) ):\n",
    "    for j in range( 0, len( x[i][:] ) ):\n",
    "        if x[i][j] == 'b':\n",
    "            x[i][j] = -1\n",
    "        elif x[i][j] == 'x':\n",
    "            x[i][j] = 0\n",
    "        elif x[i][j] == 'o':\n",
    "            x[i][j] = 1\n",
    "        else:\n",
    "            print(x[i][j])\n",
    "            raise Exception(\"Invalid Value\")"
   ]
  },
  {
   "cell_type": "code",
   "execution_count": 6,
   "metadata": {},
   "outputs": [
    {
     "name": "stdout",
     "output_type": "stream",
     "text": [
      "[[-1 -1 -1 ... -1 -1 -1]\n",
      " [-1 -1 -1 ... -1 -1 -1]\n",
      " [-1 -1 -1 ... -1 -1 -1]\n",
      " ...\n",
      " [0 0 -1 ... 1 -1 -1]\n",
      " [0 1 -1 ... 0 0 -1]\n",
      " [0 1 1 ... -1 -1 -1]]\n",
      "[['win']\n",
      " ['win']\n",
      " ['win']\n",
      " ...\n",
      " ['loss']\n",
      " ['draw']\n",
      " ['draw']]\n"
     ]
    }
   ],
   "source": [
    "print(x)\n",
    "print(y)"
   ]
  },
  {
   "cell_type": "code",
   "execution_count": 7,
   "metadata": {},
   "outputs": [],
   "source": [
    "from sklearn.model_selection import StratifiedShuffleSplit\n",
    "\n",
    "datasets = []\n",
    "\n",
    "train_propotions = [0.4, 0.6, 0.8, 0.9]\n",
    "for prop in train_propotions:\n",
    "    splitter = StratifiedShuffleSplit(n_splits=1, train_size=prop)\n",
    "    \n",
    "    for train_idx, test_idx in splitter.split(x, y):\n",
    "        feature_train, label_train = x[train_idx], y[train_idx]    \n",
    "        feature_test, label_test = x[test_idx], y[test_idx]\n",
    "             \n",
    "        datasets.append(\n",
    "            {\"feature_train\" : feature_train,\n",
    "             \"label_train\" : label_train,\n",
    "             \"feature_test\" : feature_test,\n",
    "             \"label_test\" : label_test})"
   ]
  },
  {
   "cell_type": "code",
   "execution_count": null,
   "metadata": {},
   "outputs": [],
   "source": [
    "for dataset in datasets:\n",
    "    print( len(dataset[\"feature_train\"]) / ( len(dataset[\"feature_train\"]) + len(dataset[\"feature_test\"]) ) )"
   ]
  },
  {
   "cell_type": "code",
   "execution_count": 10,
   "metadata": {},
   "outputs": [],
   "source": [
    "from sklearn.tree import DecisionTreeClassifier, export_graphviz\n",
    "from graphviz import Source\n",
    "\n",
    "dec_trees = []\n",
    "for dataset in datasets:\n",
    "    dec_tree = DecisionTreeClassifier(criterion='entropy')\n",
    "    \n",
    "    dec_tree = dec_tree.fit(dataset[\"feature_train\"], dataset[\"label_train\"])\n",
    "    \n",
    "    dec_trees.append(dec_tree)\n",
    "    Source(export_graphviz(dec_tree, filled=True))"
   ]
  },
  {
   "cell_type": "code",
   "execution_count": null,
   "metadata": {},
   "outputs": [],
   "source": [
    "graph = Source(export_graphviz(dec_trees[0], filled=True, out_file=None))\n",
    "graph.format = 'png'\n",
    "graph.render('dtree_render',view=True)"
   ]
  },
  {
   "cell_type": "code",
   "execution_count": 9,
   "metadata": {},
   "outputs": [
    {
     "name": "stdout",
     "output_type": "stream",
     "text": [
      "0.7261625755519922\n",
      "0.8365466454501721\n",
      "0.8332593250444049\n",
      "0.8352575488454707\n",
      "Average: 0.80780652372301\n",
      "\n",
      "0.8979153817688418\n",
      "0.7442548939792029\n",
      "0.8968324452338662\n",
      "0.8922439313203079\n",
      "Average: 0.8578116630755546\n",
      "\n",
      "0.9508819538670285\n",
      "0.9497835177441438\n",
      "0.7507400828892836\n",
      "0.9498223801065719\n",
      "Average: 0.900306983651757\n",
      "\n",
      "0.9764154434439374\n",
      "0.9755763608777708\n",
      "0.9750592066311426\n",
      "0.7643576080521018\n",
      "Average: 0.9228521547512382\n",
      "\n"
     ]
    }
   ],
   "source": [
    "for dec_tree in dec_trees:\n",
    "    accus = []\n",
    "    for dataset in datasets:\n",
    "        accus.append(dec_tree.score(dataset[\"feature_test\"], dataset[\"label_test\"]))\n",
    "        \n",
    "    for accu in accus:\n",
    "        print(accu)\n",
    "    print(f\"Average: {sum(accus) / len(accus)}\")\n",
    "    print()"
   ]
  },
  {
   "cell_type": "code",
   "execution_count": null,
   "metadata": {},
   "outputs": [],
   "source": [
    "from numpy import concatenate\n",
    "from sklearn.metrics import (\n",
    "    classification_report,\n",
    "    confusion_matrix,\n",
    "    ConfusionMatrixDisplay\n",
    ")\n",
    "\n",
    "for dec_tree, dataset in zip(dec_trees, datasets):\n",
    "    pred = dec_tree.predict(dataset[\"feature_test\"])\n",
    "    ground_truth = concatenate(dataset[\"label_test\"])\n",
    "    \n",
    "    print( classification_report(ground_truth, pred) )\n",
    "    \n",
    "    conf_matrix = confusion_matrix(ground_truth, pred)\n",
    "    ConfusionMatrixDisplay.from_predictions(ground_truth, pred)"
   ]
  },
  {
   "cell_type": "code",
   "execution_count": null,
   "metadata": {},
   "outputs": [],
   "source": [
    "from sklearn.tree import DecisionTreeClassifier,export_graphviz\n",
    "from sklearn.metrics import accuracy_score\n",
    "from graphviz import Source\n",
    "from numpy import concatenate\n",
    "\n",
    "dataset = datasets[2]\n",
    "\n",
    "max_depths = (None, 2, 3, 4, 5, 6, 7)\n",
    "for max_depth in max_depths:\n",
    "    dec_tree = DecisionTreeClassifier(criterion='entropy', max_depth=max_depth)\n",
    "    dec_tree = dec_tree.fit(dataset[\"feature_train\"], dataset[\"label_train\"])\n",
    "    \n",
    "    Source(export_graphviz(dec_tree, filled=True))\n",
    "    \n",
    "    pred = dec_tree.predict(dataset[\"feature_test\"])\n",
    "    ground_truth = concatenate(dataset[\"label_test\"])\n",
    "    \n",
    "    print( accuracy_score(ground_truth, pred) )\n",
    "    "
   ]
  }
 ],
 "metadata": {
  "interpreter": {
   "hash": "10e909e10b6a4a12e1ba21a2205a0ed7505e567f0f6a8eac062977774b23d4d6"
  },
  "kernelspec": {
   "display_name": "Python 3.8.10 64-bit (system)",
   "language": "python",
   "name": "python3"
  },
  "language_info": {
   "codemirror_mode": {
    "name": "ipython",
    "version": 3
   },
   "file_extension": ".py",
   "mimetype": "text/x-python",
   "name": "python",
   "nbconvert_exporter": "python",
   "pygments_lexer": "ipython3",
   "version": "3.8.10"
  },
  "orig_nbformat": 4
 },
 "nbformat": 4,
 "nbformat_minor": 2
}
